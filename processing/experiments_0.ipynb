{
 "cells": [
  {
   "cell_type": "code",
   "execution_count": 14,
   "metadata": {
    "collapsed": true
   },
   "outputs": [],
   "source": [
    "from keras.layers import Input, Dense\n",
    "from keras.models import Model\n",
    "from keras.optimizers import Adam\n",
    "import numpy as np\n",
    "import matplotlib.pyplot as plt\n",
    "import pickle\n",
    "import pandas as pd\n",
    "import scipy.stats as ss\n",
    "from keras import regularizers\n",
    "from keras.callbacks import ModelCheckpoint, TensorBoard\n",
    "from sklearn.model_selection import train_test_split\n",
    "from sklearn.preprocessing import StandardScaler\n",
    "from sklearn.preprocessing import normalize\n",
    "from sklearn.decomposition import PCA, KernelPCA"
   ]
  },
  {
   "cell_type": "code",
   "execution_count": 15,
   "metadata": {
    "collapsed": true
   },
   "outputs": [],
   "source": [
    "import seaborn as sns\n",
    "sns.set(color_codes=True)\n",
    "%matplotlib inline"
   ]
  },
  {
   "cell_type": "code",
   "execution_count": 16,
   "metadata": {
    "collapsed": true
   },
   "outputs": [],
   "source": [
    "RANDOM_SEED = 42"
   ]
  },
  {
   "cell_type": "code",
   "execution_count": 17,
   "metadata": {
    "collapsed": true
   },
   "outputs": [],
   "source": [
    "data_lda = pickle.load(file=open('./pickles/mallet_doc_corpus.pickle', 'rb'))\n",
    "data_original = pd.read_csv('./pickles/data_pd.csv')"
   ]
  },
  {
   "cell_type": "markdown",
   "metadata": {},
   "source": [
    "### Data Preprocessing"
   ]
  },
  {
   "cell_type": "code",
   "execution_count": 89,
   "metadata": {},
   "outputs": [
    {
     "name": "stdout",
     "output_type": "stream",
     "text": [
      "500 Input topics\n",
      "Setting topic threshold at 0.1\n",
      "Pruned to 405 topics\n",
      "Zeroing any values below 0.01\n"
     ]
    },
    {
     "data": {
      "text/plain": [
       "<matplotlib.axes._subplots.AxesSubplot at 0x11bc2d748>"
      ]
     },
     "execution_count": 89,
     "metadata": {},
     "output_type": "execute_result"
    },
    {
     "data": {
      "image/png": "[encoded data removed]",
      "text/plain": [
       "<matplotlib.figure.Figure at 0x11a205be0>"
      ]
     },
     "metadata": {},
     "output_type": "display_data"
    }
   ],
   "source": [
    "#Get Topics\n",
    "topics = pickle.load(file=open('./pickles/mallet_learnt_topics.pickle','rb'))\n",
    "topic_lst = [0]*len(topics)\n",
    "i = 0\n",
    "for topic in topics:\n",
    "    topic_lst[i] = np.array(topic[1])[:, 0]\n",
    "    i+=1\n",
    "topics = topic_lst\n",
    "print(len(topics), 'Input topics')\n",
    "\n",
    "#Augment Vector if Required\n",
    "data_in = data_lda[:]\n",
    "data_agg = np.zeros(np.shape(data_in)[1])\n",
    "threshold = 0.10\n",
    "min_score = 1\n",
    "threshold_prob = 0.01\n",
    "\n",
    "#Set baseline threshold for entire corpus\n",
    "print('Setting topic threshold at', threshold)\n",
    "for paper in data_in:\n",
    "    chk = paper[paper > threshold]\n",
    "    data_agg = np.add(data_agg, (paper > threshold).astype(int))\n",
    "prune = (data_agg >= min_score).astype(int) #Stuff to keep\n",
    "idx_arr = np.arange(np.shape(data_in)[1])\n",
    "idx_arr = idx_arr[prune == 0]\n",
    "\n",
    "#Clean corresponding topics\n",
    "for i in reversed(idx_arr):\n",
    "    del(topics[i])\n",
    "    \n",
    "data_in = data_in[:, prune == 1]\n",
    "print('Pruned to', len(topics), 'topics')\n",
    "\n",
    "#Remove near-zero values\n",
    "data_in[data_in < threshold_prob] = 0\n",
    "print('Zeroing any values below', threshold_prob)\n",
    "\n",
    "#Sum to 1?\n",
    "sum_one = np.sum(data_in, axis = 1)\n",
    "sum_one[sum_one == 0] = 1 #Resolve any 0 errors\n",
    "\n",
    "data_in = data_in/sum_one[:,None]\n",
    "\n",
    "# data_in = StandardScaler().fit_transform(data_in)\n",
    "# print('Normalised to zero-mean and unit variance')\n",
    "# OR\n",
    "# data_in = np.subtract(data_in, np.min(data_in, axis = 0))/(np.max(data_in, axis = 0) - np.min(data_in, axis = 0))\n",
    "# print('Max-min normalised')\n",
    "sns.distplot(data_in[:, 5])\n",
    "#data_in = np.subtract(data_in, np.mean(data_in, axis = 0))/np.var(data_in, axis = 0)"
   ]
  },
  {
   "cell_type": "code",
   "execution_count": 19,
   "metadata": {
    "collapsed": true
   },
   "outputs": [],
   "source": [
    "pickle.dump(file=open('./pickles/mallet_pruned.pickle', 'wb'), obj = data_in)"
   ]
  },
  {
   "cell_type": "code",
   "execution_count": 82,
   "metadata": {
    "collapsed": true
   },
   "outputs": [],
   "source": [
    "num_components = 500"
   ]
  },
  {
   "cell_type": "markdown",
   "metadata": {},
   "source": [
    "### K-Means on Papers"
   ]
  },
  {
   "cell_type": "code",
   "execution_count": 61,
   "metadata": {
    "collapsed": true
   },
   "outputs": [],
   "source": [
    "from sklearn.cluster import KMeans"
   ]
  },
  {
   "cell_type": "code",
   "execution_count": 76,
   "metadata": {},
   "outputs": [
    {
     "data": {
      "text/plain": [
       "KMeans(algorithm='auto', copy_x=True, init='k-means++', max_iter=1000,\n",
       "    n_clusters=500, n_init=10, n_jobs=1, precompute_distances='auto',\n",
       "    random_state=None, tol=0.0001, verbose=0)"
      ]
     },
     "execution_count": 76,
     "metadata": {},
     "output_type": "execute_result"
    }
   ],
   "source": [
    "k_m = KMeans(n_clusters=num_components, max_iter = 1000)\n",
    "k_m.fit(data_in)"
   ]
  },
  {
   "cell_type": "code",
   "execution_count": 77,
   "metadata": {
    "collapsed": true
   },
   "outputs": [],
   "source": [
    "centers = k_m.cluster_centers_\n",
    "assignments = k_m.labels_"
   ]
  },
  {
   "cell_type": "code",
   "execution_count": 78,
   "metadata": {},
   "outputs": [
    {
     "data": {
      "text/plain": [
       "<matplotlib.axes._subplots.AxesSubplot at 0x11becc908>"
      ]
     },
     "execution_count": 78,
     "metadata": {},
     "output_type": "execute_result"
    },
    {
     "data": {
      "image/png": "[encoded data removed]",
      "text/plain": [
       "<matplotlib.figure.Figure at 0x11be3eb38>"
      ]
     },
     "metadata": {},
     "output_type": "display_data"
    }
   ],
   "source": [
    "sns.distplot(assignments)"
   ]
  },
  {
   "cell_type": "code",
   "execution_count": 81,
   "metadata": {
    "collapsed": true
   },
   "outputs": [],
   "source": [
    "# for idx, k in enumerate(assignments):\n",
    "#     if k == 386:\n",
    "#         print(data_original.iloc[idx, :]['title'])"
   ]
  },
  {
   "cell_type": "markdown",
   "metadata": {},
   "source": [
    "### Expectation-Maximisation on Papers"
   ]
  },
  {
   "cell_type": "code",
   "execution_count": 83,
   "metadata": {
    "collapsed": true
   },
   "outputs": [],
   "source": [
    "from sklearn.mixture import GaussianMixture"
   ]
  },
  {
   "cell_type": "code",
   "execution_count": 88,
   "metadata": {
    "collapsed": true,
    "scrolled": true
   },
   "outputs": [],
   "source": [
    "e_m = GaussianMixture(n_components = 100, max_iter = 100, verbose = 2)\n",
    "e_m.fit(data_in)"
   ]
  },
  {
   "cell_type": "markdown",
   "metadata": {},
   "source": [
    "### X-Means"
   ]
  },
  {
   "cell_type": "code",
   "execution_count": 20,
   "metadata": {
    "collapsed": true
   },
   "outputs": [],
   "source": [
    "from pyclustering.cluster.xmeans import xmeans, splitting_type"
   ]
  },
  {
   "cell_type": "code",
   "execution_count": 40,
   "metadata": {
    "collapsed": true
   },
   "outputs": [],
   "source": [
    "data_norm = StandardScaler().fit_transform(data_in)"
   ]
  },
  {
   "cell_type": "code",
   "execution_count": 41,
   "metadata": {},
   "outputs": [
    {
     "name": "stdout",
     "output_type": "stream",
     "text": [
      "405\n"
     ]
    }
   ],
   "source": [
    "dataset = [tuple(item) for item in data_norm]\n",
    "print(len(dataset[0]))"
   ]
  },
  {
   "cell_type": "code",
   "execution_count": 42,
   "metadata": {
    "collapsed": true
   },
   "outputs": [],
   "source": [
    "xmeans_instance = xmeans(dataset, criterion= splitting_type.MINIMUM_NOISELESS_DESCRIPTION_LENGTH, tolerance = 0.00001, kmax = 100, ccore = False);\n",
    "xmeans_instance.process()\n",
    "clusters = xmeans_instance.get_clusters();\n",
    "centers = xmeans_instance.get_centers();"
   ]
  },
  {
   "cell_type": "code",
   "execution_count": 39,
   "metadata": {},
   "outputs": [
    {
     "name": "stdout",
     "output_type": "stream",
     "text": [
      "(1, 34294)\n"
     ]
    }
   ],
   "source": [
    "print(np.shape(clusters))"
   ]
  },
  {
   "cell_type": "markdown",
   "metadata": {},
   "source": [
    "### Autoencoder (does not work)"
   ]
  },
  {
   "cell_type": "code",
   "execution_count": 83,
   "metadata": {
    "collapsed": true
   },
   "outputs": [],
   "source": [
    "x_train, x_test, y_train, y_test = train_test_split(data_in[:], data_in[:], test_size=0.1, random_state=RANDOM_SEED, shuffle=True)"
   ]
  },
  {
   "cell_type": "code",
   "execution_count": 84,
   "metadata": {
    "collapsed": true
   },
   "outputs": [],
   "source": [
    "encoding_dim = 405\n",
    "input_dim = np.shape(data_in)[1]"
   ]
  },
  {
   "cell_type": "code",
   "execution_count": 85,
   "metadata": {
    "collapsed": true
   },
   "outputs": [],
   "source": [
    "#Encoder\n",
    "input_data = Input(shape=(input_dim,))\n",
    "encoded = Dense(800, activation='tanh')(input_data)\n",
    "encoded = Dense(500, activation='tanh')(encoded)\n",
    "encoded = Dense(encoding_dim, activation='tanh')(encoded)\n",
    "\n",
    "#Decoder\n",
    "decoded = Dense(800, activation='tanh')(encoded)\n",
    "decoded = Dense(input_dim, activation='tanh')(decoded)\n",
    "\n",
    "autoencoder = Model(input_data, decoded)"
   ]
  },
  {
   "cell_type": "code",
   "execution_count": 86,
   "metadata": {},
   "outputs": [
    {
     "name": "stdout",
     "output_type": "stream",
     "text": [
      "Train on 30864 samples, validate on 3430 samples\n",
      "Epoch 1/8\n",
      "30864/30864 [==============================] - 10s - loss: 7.2489e-05 - val_loss: 1.7730e-05\n",
      "Epoch 2/8\n",
      "30864/30864 [==============================] - 9s - loss: 1.4671e-05 - val_loss: 1.3673e-05\n",
      "Epoch 3/8\n",
      "30864/30864 [==============================] - 13s - loss: 1.3840e-05 - val_loss: 1.2016e-05\n",
      "Epoch 4/8\n",
      "30864/30864 [==============================] - 14s - loss: 1.3713e-05 - val_loss: 1.4796e-05\n",
      "Epoch 5/8\n",
      "30864/30864 [==============================] - 11s - loss: 1.6116e-05 - val_loss: 1.7202e-05\n",
      "Epoch 6/8\n",
      "30864/30864 [==============================] - 10s - loss: 1.3844e-05 - val_loss: 1.5720e-05\n",
      "Epoch 7/8\n",
      "30864/30864 [==============================] - 10s - loss: 1.4586e-05 - val_loss: 1.9963e-05\n",
      "Epoch 8/8\n",
      "30864/30864 [==============================] - 11s - loss: 1.4947e-05 - val_loss: 1.2272e-05\n"
     ]
    }
   ],
   "source": [
    "autoencoder.compile(optimizer=Adam(lr=0.001), loss='mse')\n",
    "checkpointer = ModelCheckpoint(filepath=\"model.h5\",\n",
    "                               verbose=0,\n",
    "                               save_best_only=True)\n",
    "tensorboard = TensorBoard(log_dir='./logs',\n",
    "                          histogram_freq=0,\n",
    "                          write_graph=True,\n",
    "                          write_images=True)\n",
    "history = autoencoder.fit(x_train, x_train, epochs=8, batch_size=50, shuffle=True, verbose = 1, callbacks=[checkpointer, tensorboard], validation_data=(x_test, x_test)).history, "
   ]
  },
  {
   "cell_type": "code",
   "execution_count": 87,
   "metadata": {},
   "outputs": [
    {
     "data": {
      "image/png": "[encoded data removed]",
      "text/plain": [
       "<matplotlib.figure.Figure at 0x129b01e80>"
      ]
     },
     "metadata": {},
     "output_type": "display_data"
    }
   ],
   "source": [
    "plt.plot(history[0]['loss'])\n",
    "plt.plot(history[0]['val_loss'])\n",
    "plt.title('Model Loss')\n",
    "plt.xlabel('epoch')\n",
    "plt.legend(['Train', 'Test'], loc='upper right');\n",
    "plt.show()\n",
    "reconstruct[reconstruct < 0.01] = 0\n",
    "i = 68\n",
    "print(np.sum(x_test[i] - reconstruct[i]))\n",
    "print(x_test[i] - reconstruct[i])"
   ]
  }
 ],
 "metadata": {
  "kernelspec": {
   "display_name": "Python 3",
   "language": "python",
   "name": "python3"
  },
  "language_info": {
   "codemirror_mode": {
    "name": "ipython",
    "version": 3
   },
   "file_extension": ".py",
   "mimetype": "text/x-python",
   "name": "python",
   "nbconvert_exporter": "python",
   "pygments_lexer": "ipython3",
   "version": "3.6.0"
  }
 },
 "nbformat": 4,
 "nbformat_minor": 2
}
