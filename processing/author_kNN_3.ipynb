{
 "cells": [
  {
   "cell_type": "code",
   "execution_count": 1,
   "metadata": {
    "collapsed": true
   },
   "outputs": [],
   "source": [
    "import numpy as np\n",
    "import pickle\n",
    "from sklearn.neighbors import NearestNeighbors\n",
    "import datetime as datetime"
   ]
  },
  {
   "cell_type": "code",
   "execution_count": 2,
   "metadata": {
    "collapsed": true
   },
   "outputs": [],
   "source": [
    "p_loc, search_arr = pickle.load(file = open('./pickles/search_array.pickle', 'rb'))\n",
    "paper_dist =  pickle.load(file=open('./pickles/paper_dist_pruned.pickle', 'rb'))\n",
    "user_research = pickle.load(file=open('./pickles/user_research_data.pickle', 'rb'))"
   ]
  },
  {
   "cell_type": "code",
   "execution_count": 3,
   "metadata": {
    "collapsed": true
   },
   "outputs": [],
   "source": [
    "nbr_auth = NearestNeighbors(n_neighbors=20, algorithm='auto').fit(user_research)"
   ]
  },
  {
   "cell_type": "code",
   "execution_count": 4,
   "metadata": {
    "collapsed": true
   },
   "outputs": [],
   "source": [
    "pickle.dump(file = open('./pickles/nbr_auth.pickle', 'wb'), obj = nbr_auth)"
   ]
  },
  {
   "cell_type": "code",
   "execution_count": 5,
   "metadata": {
    "collapsed": true
   },
   "outputs": [],
   "source": [
    "nbr_auth = pickle.load(file = open('./pickles/nbr_auth.pickle', 'rb'))"
   ]
  },
  {
   "cell_type": "code",
   "execution_count": 6,
   "metadata": {
    "collapsed": true
   },
   "outputs": [],
   "source": [
    "user_research = []"
   ]
  },
  {
   "cell_type": "code",
   "execution_count": 7,
   "metadata": {
    "collapsed": true
   },
   "outputs": [],
   "source": [
    "def get_user_research(paper_topic_dist, paper_indxs):\n",
    "    user = np.zeros(np.shape(paper_topic_dist)[1])\n",
    "    for idx in paper_indxs:\n",
    "        user = np.add(user, paper_topic_dist[idx, :])\n",
    "    return user.reshape(1, -1)"
   ]
  },
  {
   "cell_type": "code",
   "execution_count": 8,
   "metadata": {
    "collapsed": true
   },
   "outputs": [],
   "source": [
    "distances, indices = nbr_auth.kneighbors(get_user_research(paper_dist, search_arr[30][3]))"
   ]
  },
  {
   "cell_type": "code",
   "execution_count": 9,
   "metadata": {},
   "outputs": [
    {
     "name": "stdout",
     "output_type": "stream",
     "text": [
      "[ 0.          2.36483986  2.43681946  2.45037276  2.45577581  2.47776715\n",
      "  2.48060557  2.48091102  2.49742355  2.50066572  2.51194529  2.52483665\n",
      "  2.52539252  2.53065784  2.54008214  2.54008214  2.54935484  2.55038849\n",
      "  2.55282117  2.55373268]\n"
     ]
    }
   ],
   "source": [
    "print(distances[0])"
   ]
  },
  {
   "cell_type": "code",
   "execution_count": 10,
   "metadata": {},
   "outputs": [
    {
     "name": "stdout",
     "output_type": "stream",
     "text": [
      "['mladen kolar' 'sara van de geer' 'florentina bunea' 'irina gaynanova'\n",
      " 'tingni sun' 'jonathan e taylor' 'zemin zheng' 'noah simon'\n",
      " 'daniela witten' 'ali shojaie' 'jian huang' 'hui zou' 'yinfei kong'\n",
      " 'guibo ye' 'enayetur raheem' 'a k md ehsanes saleh' 'arnak s dalalyan'\n",
      " 'jacob bien' 'daoji li' 'kean ming tan']\n"
     ]
    }
   ],
   "source": [
    "for i in indices:\n",
    "    print(search_arr[i, 0])"
   ]
  },
  {
   "cell_type": "code",
   "execution_count": 11,
   "metadata": {
    "collapsed": true
   },
   "outputs": [],
   "source": [
    "\n",
    "def get_papers_list(row, author_id, search_arr, paper_offset):\n",
    "    papers = row[3]\n",
    "    paper_names = row[4]\n",
    "    paper_dates = []\n",
    "    paper_dates_text = []\n",
    "    co_authors = []\n",
    "    months = [\"Unknown\", \"January\", \"Febuary\", \"March\", \"April\", \"May\",\"June\",\n",
    "                      \"July\", \"August\", \"September\", \"October\", \"November\", \"December\"]   \n",
    "    for paper in papers:\n",
    "        raw = search_arr[paper_offset + paper, :]\n",
    "        date = datetime.datetime.utcfromtimestamp(raw[5])\n",
    "        desc = '(' + months[date.month] + ' '  + str(date.year) +')'\n",
    "        paper_dates_text.append(desc)\n",
    "        paper_dates.append(raw[5])\n",
    "        paper_co_auth = ', '.join(raw[4])\n",
    "        if len(paper_co_auth) > 70:\n",
    "            paper_co_auth = paper_co_auth[:paper_co_auth.find(', ',40)] + \" and others\"\n",
    "        co_authors.append(paper_co_auth)\n",
    "    papers = ['/paper/' + str(item) for item in papers]\n",
    "    zipper = list(zip(papers, paper_names, paper_dates_text, co_authors, paper_dates))\n",
    "    zipper = sorted(zipper, key=lambda k: k[-1], reverse= True)\n",
    "    return zipper"
   ]
  },
  {
   "cell_type": "code",
   "execution_count": 12,
   "metadata": {},
   "outputs": [
    {
     "data": {
      "text/plain": [
       "[('/paper/4269',\n",
       "  'The Space of Transferable Adversarial Examples',\n",
       "  '(April 2017)',\n",
       "  'Florian Tramèr, Nicolas Papernot, Ian Goodfellow and others',\n",
       "  1491933552),\n",
       " ('/paper/1908',\n",
       "  'Adversarial Attacks on Neural Network Policies',\n",
       "  '(Febuary 2017)',\n",
       "  'Sandy Huang, Nicolas Papernot, Ian Goodfellow, Yan Duan, Pieter Abbeel',\n",
       "  1486528435),\n",
       " ('/paper/25809',\n",
       "  'NIPS 2016 Tutorial: Generative Adversarial Networks',\n",
       "  '(December 2016)',\n",
       "  'Ian Goodfellow',\n",
       "  1483211837),\n",
       " ('/paper/973',\n",
       "  'Adversarial Machine Learning at Scale',\n",
       "  '(November 2016)',\n",
       "  'Alexey Kurakin, Ian Goodfellow, Samy Bengio',\n",
       "  1478221862),\n",
       " ('/paper/3292',\n",
       "  'Semi-supervised Knowledge Transfer for Deep Learning from Private\\n  Training Data',\n",
       "  '(October 2016)',\n",
       "  'Nicolas Papernot, Martín Abadi, Úlfar Erlingsson and others',\n",
       "  1476819457),\n",
       " ('/paper/263',\n",
       "  'cleverhans v1.0.0: an adversarial machine learning library',\n",
       "  '(October 2016)',\n",
       "  'Nicolas Papernot, Ian Goodfellow, Ryan Sheatsley and others',\n",
       "  1475532247),\n",
       " ('/paper/412',\n",
       "  'Adversarial examples in the physical world',\n",
       "  '(July 2016)',\n",
       "  'Alexey Kurakin, Ian Goodfellow, Samy Bengio',\n",
       "  1468012331),\n",
       " ('/paper/1894',\n",
       "  'Deep Learning with Differential Privacy',\n",
       "  '(July 2016)',\n",
       "  'Martín Abadi, Andy Chu, Ian Goodfellow, H Brendan McMahan and others',\n",
       "  1467358150),\n",
       " ('/paper/19041',\n",
       "  'Improved Techniques for Training GANs',\n",
       "  '(June 2016)',\n",
       "  'Tim Salimans, Ian Goodfellow, Wojciech Zaremba and others',\n",
       "  1465599215),\n",
       " ('/paper/3677',\n",
       "  'Adversarial Training Methods for Semi-Supervised Text Classification',\n",
       "  '(May 2016)',\n",
       "  'Takeru Miyato, Andrew M Dai, Ian Goodfellow',\n",
       "  1464150345),\n",
       " ('/paper/411',\n",
       "  'Transferability in Machine Learning: from Phenomena to Black-Box Attacks\\n  using Adversarial Samples',\n",
       "  '(May 2016)',\n",
       "  'Nicolas Papernot, Patrick McDaniel, Ian Goodfellow',\n",
       "  1464060468),\n",
       " ('/paper/17267',\n",
       "  'Unsupervised Learning for Physical Interaction through Video Prediction',\n",
       "  '(May 2016)',\n",
       "  'Chelsea Finn, Ian Goodfellow, Sergey Levine',\n",
       "  1464032755),\n",
       " ('/paper/14417',\n",
       "  'Theano: A Python framework for fast computation of mathematical\\n  expressions',\n",
       "  '(May 2016)',\n",
       "  'The Theano Development Team, Rami AlRfou and others',\n",
       "  1462818754),\n",
       " ('/paper/30848',\n",
       "  'Improving the Robustness of Deep Neural Networks via Stability Training',\n",
       "  '(April 2016)',\n",
       "  'Stephan Zheng, Yang Song, Thomas Leung, Ian Goodfellow',\n",
       "  1460682918),\n",
       " ('/paper/4566',\n",
       "  'TensorFlow: Large-Scale Machine Learning on Heterogeneous Distributed\\n  Systems',\n",
       "  '(March 2016)',\n",
       "  'Martín Abadi, Ashish Agarwal, Paul Barham and others',\n",
       "  1457988620),\n",
       " ('/paper/7672',\n",
       "  'Practical Black-Box Attacks against Machine Learning',\n",
       "  '(Febuary 2016)',\n",
       "  'Nicolas Papernot, Patrick McDaniel, Ian Goodfellow and others',\n",
       "  1454958745),\n",
       " ('/paper/23907',\n",
       "  'Adversarial Autoencoders',\n",
       "  '(November 2015)',\n",
       "  'Alireza Makhzani, Jonathon Shlens, Navdeep Jaitly and others',\n",
       "  1447813959),\n",
       " ('/paper/23906',\n",
       "  'Net2Net: Accelerating Learning via Knowledge Transfer',\n",
       "  '(November 2015)',\n",
       "  'Tianqi Chen, Ian Goodfellow, Jonathon Shlens',\n",
       "  1447812560),\n",
       " ('/paper/1981',\n",
       "  'Efficient Per-Example Gradient Computations',\n",
       "  '(October 2015)',\n",
       "  'Ian Goodfellow',\n",
       "  1444182143),\n",
       " ('/paper/20247',\n",
       "  'Intriguing properties of neural networks',\n",
       "  '(December 2013)',\n",
       "  'Christian Szegedy, Wojciech Zaremba, Ilya Sutskever and others',\n",
       "  1387596968),\n",
       " ('/paper/4',\n",
       "  'Joint Training of Deep Boltzmann Machines',\n",
       "  '(December 2012)',\n",
       "  'Ian Goodfellow, Aaron Courville, Yoshua Bengio',\n",
       "  1355277567),\n",
       " ('/paper/2840',\n",
       "  'Theano: new features and speed improvements',\n",
       "  '(November 2012)',\n",
       "  'Frédéric Bastien, Pascal Lamblin, Razvan Pascanu and others',\n",
       "  1353703361),\n",
       " ('/paper/394',\n",
       "  'Large-Scale Feature Learning With Spike-and-Slab Sparse Coding',\n",
       "  '(June 2012)',\n",
       "  'Ian Goodfellow, Aaron Courville, Yoshua Bengio',\n",
       "  1340827199)]"
      ]
     },
     "execution_count": 12,
     "metadata": {},
     "output_type": "execute_result"
    }
   ],
   "source": [
    "get_papers_list(search_arr[9, :], 9, search_arr, p_loc)"
   ]
  },
  {
   "cell_type": "code",
   "execution_count": null,
   "metadata": {
    "collapsed": true
   },
   "outputs": [],
   "source": []
  }
 ],
 "metadata": {
  "kernelspec": {
   "display_name": "Python 3",
   "language": "python",
   "name": "python3"
  },
  "language_info": {
   "codemirror_mode": {
    "name": "ipython",
    "version": 3
   },
   "file_extension": ".py",
   "mimetype": "text/x-python",
   "name": "python",
   "nbconvert_exporter": "python",
   "pygments_lexer": "ipython3",
   "version": "3.6.0"
  }
 },
 "nbformat": 4,
 "nbformat_minor": 2
}
