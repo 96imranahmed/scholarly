{
 "cells": [
  {
   "cell_type": "code",
   "execution_count": 206,
   "metadata": {},
   "outputs": [],
   "source": [
    "import pandas as pd\n",
    "import pickle\n",
    "import numpy as np\n",
    "import difflib\n",
    "import re, string"
   ]
  },
  {
   "cell_type": "code",
   "execution_count": 228,
   "metadata": {},
   "outputs": [],
   "source": [
    "topics_pruned = pickle.load(file = open('./pickles/topics_pruned.pickle', 'rb'))\n",
    "topics_dist = pickle.load(file = open('./pickles/paper_dist_pruned.pickle', 'rb'))\n",
    "p_loc, search_arr = pickle.load(file = open('./pickles/search_array.pickle', 'rb'))"
   ]
  },
  {
   "cell_type": "code",
   "execution_count": 229,
   "metadata": {
    "scrolled": false
   },
   "outputs": [],
   "source": [
    "# topics_dist_norm = topics_dist[:]\n",
    "# topics_dist_norm[topics_dist_norm == 0] = np.nan\n",
    "# mean = np.nanmean(topics_dist_norm, axis = 0) #nanmean\n",
    "# std = np.nanstd(topics_dist_norm, axis = 0) #nanstd\n",
    "# topics_dist_norm = (topics_dist_norm - mean)/std"
   ]
  },
  {
   "cell_type": "code",
   "execution_count": 230,
   "metadata": {},
   "outputs": [],
   "source": [
    "pickle.dump(file = open('./pickles/paper_dist_norm.pickle', 'wb'), obj = topics_dist_norm)"
   ]
  },
  {
   "cell_type": "code",
   "execution_count": 231,
   "metadata": {
    "collapsed": true
   },
   "outputs": [],
   "source": [
    "def get_user_research(paper_topic_dist, paper_indxs):\n",
    "    user = np.zeros(np.shape(paper_topic_dist)[1])\n",
    "    for idx in paper_indxs:\n",
    "        user = np.add(user, paper_topic_dist[idx, :])\n",
    "    return user.reshape(1, -1)"
   ]
  },
  {
   "cell_type": "code",
   "execution_count": 232,
   "metadata": {},
   "outputs": [],
   "source": [
    "def gen_word_cloud(dist,topics, num_required = 5):\n",
    "    items = []\n",
    "    pattern = re.compile('[\\W_]+')\n",
    "    #Presort list\n",
    "    dist = [(round(conf, 3), idx) for idx, conf in enumerate(list(dist)) if not ((np.isnan(conf)) or (conf < 0))]\n",
    "    dist = sorted(dist, key = lambda p: p[0], reverse = True)\n",
    "    for val in dist:\n",
    "        if len(items) < num_required and not 'al.' in topics[val[1]]:\n",
    "            items.append([val[0], topics[val[1]]])\n",
    "    for item in items:\n",
    "        item[1] = [pattern.sub('', i) for i in item[1] if len(i) > 2]\n",
    "        pure_lst = []\n",
    "        removables = set()\n",
    "        for i in range(len(item[1])):\n",
    "            if item[1][i] not in removables:\n",
    "                matches = difflib.get_close_matches(item[1][i], item[1], n=5, cutoff=0.6)\n",
    "                pure_lst.append(matches[0])\n",
    "                removables.update(matches)\n",
    "        item[1] = ', '.join([i.title() for i in pure_lst])\n",
    "    return items"
   ]
  },
  {
   "cell_type": "code",
   "execution_count": 242,
   "metadata": {},
   "outputs": [
    {
     "data": {
      "text/plain": [
       "[[2.4790000000000001,\n",
       "  'Health, Medical, Clinical, Patient, Risk, Electronic, Disease, Records, Survival, Care, Personalized, Hospital, Ehr'],\n",
       " [0.92900000000000005,\n",
       "  'Treatment, Effects, Outcome, Data, Covariates, Estimating, Observational, Trial, Individual'],\n",
       " [0.92700000000000005,\n",
       "  'Variational, Inference, Bayesian, Posterior, Approximate, Stochastic, Models, Latent, Distributions'],\n",
       " [0.81399999999999995,\n",
       "  'Recurrent, Neural, Long, Lstm, Memory, Networks, Rnn, Shortterm, Sequence, Dependencies'],\n",
       " [0.80000000000000004,\n",
       "  'Latent, Model, Variable, Inference, Observed, Probabilistic, Generative, Structure, Hidden']]"
      ]
     },
     "execution_count": 242,
     "metadata": {},
     "output_type": "execute_result"
    }
   ],
   "source": [
    "data_in = get_user_research(topics_dist, search_arr[2444][3])[0]\n",
    "gen_word_cloud(data_in, topics_pruned)"
   ]
  },
  {
   "cell_type": "code",
   "execution_count": 196,
   "metadata": {
    "scrolled": false
   },
   "outputs": [
    {
     "name": "stdout",
     "output_type": "stream",
     "text": [
      "['Unsupervised Language Acquisition' 'paper' 1282 list([2968])\n",
      " list(['Carl de Marcken']) 847826251 '9611002v1']\n"
     ]
    },
    {
     "data": {
      "text/plain": [
       "[[0.33500000000000002,\n",
       "  'Language, Grammar, Natural, Abstract, Machine, Formal, Present, Syntax, Paper, Describe'],\n",
       " [0.311,\n",
       "  'Based, Thesis, Results, Machine, Reservoir, Presented, Built, Learning, Work, Study, Context, Seismic, Investigated, Preliminary'],\n",
       " [0.30299999999999999,\n",
       "  'Learning, Process, Follow, Kind, Make, Capabilities, Exist, Vary, Expand, Context, Act, Adapting, Setting, Memoryless'],\n",
       " [0.16700000000000001,\n",
       "  'Theory, Information, Potential, Kinds, Article, Conceptual, Natural, System, Multiple, Computer, Unsupervised, Pattern'],\n",
       " [0.039,\n",
       "  'Language, English, Morphological, Multilingual, Parallel, Corpora, Machine, Translation, Arabic, Linguistic']]"
      ]
     },
     "execution_count": 196,
     "metadata": {},
     "output_type": "execute_result"
    }
   ],
   "source": [
    "idi = 1282\n",
    "print(search_arr[idi + p_loc])\n",
    "gen_word_cloud(topics_dist_norm[idi], topics_pruned)"
   ]
  },
  {
   "cell_type": "code",
   "execution_count": null,
   "metadata": {
    "collapsed": true
   },
   "outputs": [],
   "source": []
  }
 ],
 "metadata": {
  "kernelspec": {
   "display_name": "Python 3",
   "language": "python",
   "name": "python3"
  },
  "language_info": {
   "codemirror_mode": {
    "name": "ipython",
    "version": 3
   },
   "file_extension": ".py",
   "mimetype": "text/x-python",
   "name": "python",
   "nbconvert_exporter": "python",
   "pygments_lexer": "ipython3",
   "version": "3.6.0"
  }
 },
 "nbformat": 4,
 "nbformat_minor": 2
}
